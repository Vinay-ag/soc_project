{
 "cells": [
  {
   "cell_type": "markdown",
   "id": "16a2756d",
   "metadata": {
    "id": "pt_e5j3bs7Zc",
    "papermill": {
     "duration": 0.010289,
     "end_time": "2022-07-14T10:23:57.968299",
     "exception": false,
     "start_time": "2022-07-14T10:23:57.958010",
     "status": "completed"
    },
    "tags": []
   },
   "source": [
    "# MNIST Handwritten Digit Classification\n",
    "This notebook looks into a neural network-based handwritten digit classification problem.\n",
    "\n",
    "## 1. Problem Definiton\n",
    "We are going to build a simple digit recognition and classification algorithm, using keras and simple neural network.\n",
    "\n",
    "## 2. Data\n",
    "The data used for this project is the MNIST (Modified National Institute of Standards and Technology)  dataset first released in 1999. It contains 60,000  28x28 grayscale training images and 10,000 testing images of handwritten digits. The dataset became a classical learning tool for computer vision and classification algorithms.\n",
    "\n",
    "## 3. Tools\n",
    "For this project, we are going to use `Keras`, a TensorFlow library that provides a Python interface for artificial neutal networks. The basic data structures in Keras are `layers` and `models`. After building our model, we will use `scikit-learn` library to evaluate its peroformance.\n"
   ]
  },
  {
   "cell_type": "code",
   "execution_count": 1,
   "id": "a5431326",
   "metadata": {
    "execution": {
     "iopub.execute_input": "2022-07-14T10:23:57.990485Z",
     "iopub.status.busy": "2022-07-14T10:23:57.989892Z",
     "iopub.status.idle": "2022-07-14T10:24:07.767087Z",
     "shell.execute_reply": "2022-07-14T10:24:07.766089Z"
    },
    "id": "xy0jWm_ws-8H",
    "papermill": {
     "duration": 9.791015,
     "end_time": "2022-07-14T10:24:07.770211",
     "exception": false,
     "start_time": "2022-07-14T10:23:57.979196",
     "status": "completed"
    },
    "tags": []
   },
   "outputs": [],
   "source": [
    "# import tools\n",
    "import numpy as np\n",
    "import matplotlib.pyplot as plt\n",
    "import keras\n",
    "from keras.models import Sequential\n",
    "from keras.layers import Dense, Dropout\n",
    "from keras.utils import np_utils\n",
    "from sklearn.metrics import confusion_matrix\n",
    "import seaborn as sns"
   ]
  },
  {
   "cell_type": "markdown",
   "id": "17453341",
   "metadata": {
    "id": "MGYUNNl0rsum",
    "papermill": {
     "duration": 0.008396,
     "end_time": "2022-07-14T10:24:07.787255",
     "exception": false,
     "start_time": "2022-07-14T10:24:07.778859",
     "status": "completed"
    },
    "tags": []
   },
   "source": [
    "## Keras Toy Datasets\n",
    "As already mentioned, we are using MNIST handritten digit dataset. The pre-processed version of the dataset is included in  `keras.datasets`, alongside with other 6 datasets.\n",
    "> Toy datasets in Keras: https://keras.io/api/datasets\n",
    "\n"
   ]
  },
  {
   "cell_type": "code",
   "execution_count": 2,
   "id": "532dab31",
   "metadata": {
    "execution": {
     "iopub.execute_input": "2022-07-14T10:24:07.806172Z",
     "iopub.status.busy": "2022-07-14T10:24:07.805496Z",
     "iopub.status.idle": "2022-07-14T10:24:08.255463Z",
     "shell.execute_reply": "2022-07-14T10:24:08.254610Z"
    },
    "id": "jrTXDE8itO3T",
    "outputId": "a382dd88-ef33-436b-c468-4d105080d3fc",
    "papermill": {
     "duration": 0.462383,
     "end_time": "2022-07-14T10:24:08.258001",
     "exception": false,
     "start_time": "2022-07-14T10:24:07.795618",
     "status": "completed"
    },
    "tags": []
   },
   "outputs": [
    {
     "name": "stdout",
     "output_type": "stream",
     "text": [
      "Downloading data from https://storage.googleapis.com/tensorflow/tf-keras-datasets/mnist.npz\n",
      "11493376/11490434 [==============================] - 0s 0us/step\n",
      "11501568/11490434 [==============================] - 0s 0us/step\n"
     ]
    }
   ],
   "source": [
    "# import data\n",
    "from keras.datasets import mnist\n",
    "(X_train, y_train), (X_test, y_test) = mnist.load_data()"
   ]
  },
  {
   "cell_type": "code",
   "execution_count": 3,
   "id": "33171342",
   "metadata": {
    "execution": {
     "iopub.execute_input": "2022-07-14T10:24:08.278213Z",
     "iopub.status.busy": "2022-07-14T10:24:08.277712Z",
     "iopub.status.idle": "2022-07-14T10:24:08.283504Z",
     "shell.execute_reply": "2022-07-14T10:24:08.282481Z"
    },
    "id": "lnD_cz3vtk-D",
    "outputId": "fc1e9aed-4ccb-441d-caa2-f20f478a1f2b",
    "papermill": {
     "duration": 0.018035,
     "end_time": "2022-07-14T10:24:08.285541",
     "exception": false,
     "start_time": "2022-07-14T10:24:08.267506",
     "status": "completed"
    },
    "tags": []
   },
   "outputs": [
    {
     "name": "stdout",
     "output_type": "stream",
     "text": [
      "(60000, 28, 28) (60000,)\n",
      "(10000, 28, 28) (10000,)\n"
     ]
    }
   ],
   "source": [
    "print(X_train.shape, y_train.shape)\n",
    "print(X_test.shape, y_test.shape)"
   ]
  },
  {
   "cell_type": "markdown",
   "id": "513cf168",
   "metadata": {
    "id": "qToR0nFTttEw",
    "papermill": {
     "duration": 0.008733,
     "end_time": "2022-07-14T10:24:08.303131",
     "exception": false,
     "start_time": "2022-07-14T10:24:08.294398",
     "status": "completed"
    },
    "tags": []
   },
   "source": [
    "## Visualization\n",
    "First, let‘s visualize the digit samples from our dataset. "
   ]
  },
  {
   "cell_type": "code",
   "execution_count": 4,
   "id": "e10b54b7",
   "metadata": {
    "execution": {
     "iopub.execute_input": "2022-07-14T10:24:08.322657Z",
     "iopub.status.busy": "2022-07-14T10:24:08.322266Z",
     "iopub.status.idle": "2022-07-14T10:24:08.334193Z",
     "shell.execute_reply": "2022-07-14T10:24:08.333435Z"
    },
    "id": "kBbxeezbs0QM",
    "outputId": "5c9443c4-ab20-483e-b9b0-6f1135b19718",
    "papermill": {
     "duration": 0.024299,
     "end_time": "2022-07-14T10:24:08.336112",
     "exception": false,
     "start_time": "2022-07-14T10:24:08.311813",
     "status": "completed"
    },
    "tags": []
   },
   "outputs": [
    {
     "data": {
      "text/plain": [
       "array([[  0,   0,   0,   0,   0,   0,   0,   0,   0,   0,   0,   0,   0,\n",
       "          0,   0,   0,   0,   0,   0,   0,   0,   0,   0,   0,   0,   0,\n",
       "          0,   0],\n",
       "       [  0,   0,   0,   0,   0,   0,   0,   0,   0,   0,   0,   0,   0,\n",
       "          0,   0,   0,   0,   0,   0,   0,   0,   0,   0,   0,   0,   0,\n",
       "          0,   0],\n",
       "       [  0,   0,   0,   0,   0,   0,   0,   0,   0,   0,   0,   0,   0,\n",
       "          0,   0,   0,   0,   0,   0,   0,   0,   0,   0,   0,   0,   0,\n",
       "          0,   0],\n",
       "       [  0,   0,   0,   0,   0,   0,   0,   0,   0,   0,   0,   0,   0,\n",
       "          0,   0,   0,   0,   0,   0,   0,   0,   0,   0,   0,   0,   0,\n",
       "          0,   0],\n",
       "       [  0,   0,   0,   0,   0,   0,   0,   0,   0,   0,   0,   0,   0,\n",
       "          0,   0,   0,   0,   0,   0,   0,   0,   0,   0,   0,   0,   0,\n",
       "          0,   0],\n",
       "       [  0,   0,   0,   0,   0,   0,   0,   0,   0,   0,   0,   0,   3,\n",
       "         18,  18,  18, 126, 136, 175,  26, 166, 255, 247, 127,   0,   0,\n",
       "          0,   0],\n",
       "       [  0,   0,   0,   0,   0,   0,   0,   0,  30,  36,  94, 154, 170,\n",
       "        253, 253, 253, 253, 253, 225, 172, 253, 242, 195,  64,   0,   0,\n",
       "          0,   0],\n",
       "       [  0,   0,   0,   0,   0,   0,   0,  49, 238, 253, 253, 253, 253,\n",
       "        253, 253, 253, 253, 251,  93,  82,  82,  56,  39,   0,   0,   0,\n",
       "          0,   0],\n",
       "       [  0,   0,   0,   0,   0,   0,   0,  18, 219, 253, 253, 253, 253,\n",
       "        253, 198, 182, 247, 241,   0,   0,   0,   0,   0,   0,   0,   0,\n",
       "          0,   0],\n",
       "       [  0,   0,   0,   0,   0,   0,   0,   0,  80, 156, 107, 253, 253,\n",
       "        205,  11,   0,  43, 154,   0,   0,   0,   0,   0,   0,   0,   0,\n",
       "          0,   0],\n",
       "       [  0,   0,   0,   0,   0,   0,   0,   0,   0,  14,   1, 154, 253,\n",
       "         90,   0,   0,   0,   0,   0,   0,   0,   0,   0,   0,   0,   0,\n",
       "          0,   0],\n",
       "       [  0,   0,   0,   0,   0,   0,   0,   0,   0,   0,   0, 139, 253,\n",
       "        190,   2,   0,   0,   0,   0,   0,   0,   0,   0,   0,   0,   0,\n",
       "          0,   0],\n",
       "       [  0,   0,   0,   0,   0,   0,   0,   0,   0,   0,   0,  11, 190,\n",
       "        253,  70,   0,   0,   0,   0,   0,   0,   0,   0,   0,   0,   0,\n",
       "          0,   0],\n",
       "       [  0,   0,   0,   0,   0,   0,   0,   0,   0,   0,   0,   0,  35,\n",
       "        241, 225, 160, 108,   1,   0,   0,   0,   0,   0,   0,   0,   0,\n",
       "          0,   0],\n",
       "       [  0,   0,   0,   0,   0,   0,   0,   0,   0,   0,   0,   0,   0,\n",
       "         81, 240, 253, 253, 119,  25,   0,   0,   0,   0,   0,   0,   0,\n",
       "          0,   0],\n",
       "       [  0,   0,   0,   0,   0,   0,   0,   0,   0,   0,   0,   0,   0,\n",
       "          0,  45, 186, 253, 253, 150,  27,   0,   0,   0,   0,   0,   0,\n",
       "          0,   0],\n",
       "       [  0,   0,   0,   0,   0,   0,   0,   0,   0,   0,   0,   0,   0,\n",
       "          0,   0,  16,  93, 252, 253, 187,   0,   0,   0,   0,   0,   0,\n",
       "          0,   0],\n",
       "       [  0,   0,   0,   0,   0,   0,   0,   0,   0,   0,   0,   0,   0,\n",
       "          0,   0,   0,   0, 249, 253, 249,  64,   0,   0,   0,   0,   0,\n",
       "          0,   0],\n",
       "       [  0,   0,   0,   0,   0,   0,   0,   0,   0,   0,   0,   0,   0,\n",
       "          0,  46, 130, 183, 253, 253, 207,   2,   0,   0,   0,   0,   0,\n",
       "          0,   0],\n",
       "       [  0,   0,   0,   0,   0,   0,   0,   0,   0,   0,   0,   0,  39,\n",
       "        148, 229, 253, 253, 253, 250, 182,   0,   0,   0,   0,   0,   0,\n",
       "          0,   0],\n",
       "       [  0,   0,   0,   0,   0,   0,   0,   0,   0,   0,  24, 114, 221,\n",
       "        253, 253, 253, 253, 201,  78,   0,   0,   0,   0,   0,   0,   0,\n",
       "          0,   0],\n",
       "       [  0,   0,   0,   0,   0,   0,   0,   0,  23,  66, 213, 253, 253,\n",
       "        253, 253, 198,  81,   2,   0,   0,   0,   0,   0,   0,   0,   0,\n",
       "          0,   0],\n",
       "       [  0,   0,   0,   0,   0,   0,  18, 171, 219, 253, 253, 253, 253,\n",
       "        195,  80,   9,   0,   0,   0,   0,   0,   0,   0,   0,   0,   0,\n",
       "          0,   0],\n",
       "       [  0,   0,   0,   0,  55, 172, 226, 253, 253, 253, 253, 244, 133,\n",
       "         11,   0,   0,   0,   0,   0,   0,   0,   0,   0,   0,   0,   0,\n",
       "          0,   0],\n",
       "       [  0,   0,   0,   0, 136, 253, 253, 253, 212, 135, 132,  16,   0,\n",
       "          0,   0,   0,   0,   0,   0,   0,   0,   0,   0,   0,   0,   0,\n",
       "          0,   0],\n",
       "       [  0,   0,   0,   0,   0,   0,   0,   0,   0,   0,   0,   0,   0,\n",
       "          0,   0,   0,   0,   0,   0,   0,   0,   0,   0,   0,   0,   0,\n",
       "          0,   0],\n",
       "       [  0,   0,   0,   0,   0,   0,   0,   0,   0,   0,   0,   0,   0,\n",
       "          0,   0,   0,   0,   0,   0,   0,   0,   0,   0,   0,   0,   0,\n",
       "          0,   0],\n",
       "       [  0,   0,   0,   0,   0,   0,   0,   0,   0,   0,   0,   0,   0,\n",
       "          0,   0,   0,   0,   0,   0,   0,   0,   0,   0,   0,   0,   0,\n",
       "          0,   0]], dtype=uint8)"
      ]
     },
     "execution_count": 4,
     "metadata": {},
     "output_type": "execute_result"
    }
   ],
   "source": [
    "X_train[0]"
   ]
  },
  {
   "cell_type": "markdown",
   "id": "d0ec45a4",
   "metadata": {
    "id": "0uq1rjh7uhK5",
    "papermill": {
     "duration": 0.00918,
     "end_time": "2022-07-14T10:24:08.354938",
     "exception": false,
     "start_time": "2022-07-14T10:24:08.345758",
     "status": "completed"
    },
    "tags": []
   },
   "source": [
    "Err... So... What‘s that? Well, this is, in fact, the first image of the dataset. Or rather, it‘s *vector* representation of the image. Machines only understand images when they are converted to numbers, based on how bright each pixel is. For a grayscale image, the most dim pixels are represented as 0.0, while the brightest pixels are represented as 0.256. \n",
    "\n",
    "To disaply the actual image in a *human-friendly* way, we have several methods. One of them is to use the `matplotlib` function `imshow()`."
   ]
  },
  {
   "cell_type": "code",
   "execution_count": 5,
   "id": "7ff1f19d",
   "metadata": {
    "execution": {
     "iopub.execute_input": "2022-07-14T10:24:08.376243Z",
     "iopub.status.busy": "2022-07-14T10:24:08.375617Z",
     "iopub.status.idle": "2022-07-14T10:24:08.571484Z",
     "shell.execute_reply": "2022-07-14T10:24:08.570439Z"
    },
    "id": "L1MgP13Ss3gI",
    "outputId": "9985d3fe-6b18-4438-ea45-fa4b9be8418e",
    "papermill": {
     "duration": 0.209298,
     "end_time": "2022-07-14T10:24:08.573773",
     "exception": false,
     "start_time": "2022-07-14T10:24:08.364475",
     "status": "completed"
    },
    "tags": []
   },
   "outputs": [
    {
     "data": {
      "image/png": "[encoded data removed]",
      "text/plain": [
       "<Figure size 432x288 with 1 Axes>"
      ]
     },
     "metadata": {
      "needs_background": "light"
     },
     "output_type": "display_data"
    }
   ],
   "source": [
    "# first, let‘s generate a random number with numpy random, so everytime we get a different image\n",
    "random_nr = np.random.randint(0, 60000)\n",
    "\n",
    "# now, let‘s use imshow() to visualize the random number from our train dataset\n",
    "plt.imshow(X_train[random_nr], cmap=\"gray\");"
   ]
  },
  {
   "cell_type": "code",
   "execution_count": 6,
   "id": "f72799d2",
   "metadata": {
    "execution": {
     "iopub.execute_input": "2022-07-14T10:24:08.595035Z",
     "iopub.status.busy": "2022-07-14T10:24:08.594673Z",
     "iopub.status.idle": "2022-07-14T10:24:09.523273Z",
     "shell.execute_reply": "2022-07-14T10:24:09.522494Z"
    },
    "id": "yQYKXwAntqcX",
    "outputId": "8613f452-f7d1-480f-d867-707fbe04ccdf",
    "papermill": {
     "duration": 0.941824,
     "end_time": "2022-07-14T10:24:09.525427",
     "exception": false,
     "start_time": "2022-07-14T10:24:08.583603",
     "status": "completed"
    },
    "tags": []
   },
   "outputs": [
    {
     "data": {
      "image/png": "[encoded data removed]",
      "text/plain": [
       "<Figure size 1440x1440 with 10 Axes>"
      ]
     },
     "metadata": {
      "needs_background": "light"
     },
     "output_type": "display_data"
    }
   ],
   "source": [
    "# Let‘s visualize one example per each digit using a for loop and matplotlib subplot\n",
    "num_classes = 10\n",
    "\n",
    "# Create a subplot\n",
    "fig, ax = plt.subplots(1, num_classes, figsize=(20,20)) # 1 row, 10 columns (num_classes)\n",
    "\n",
    "# Loop through 10 classes from train dataset and add labels from test dataset\n",
    "for i in range(num_classes):\n",
    "  sample = X_train[y_train == i][0]\n",
    "  ax[i].imshow(sample, cmap=\"gray\")\n",
    "  ax[i].set_title(f\"Label:{i}\")"
   ]
  },
  {
   "cell_type": "markdown",
   "id": "7cccf696",
   "metadata": {
    "id": "NQ7eQEtAxqF9",
    "papermill": {
     "duration": 0.01087,
     "end_time": "2022-07-14T10:24:09.546203",
     "exception": false,
     "start_time": "2022-07-14T10:24:09.535333",
     "status": "completed"
    },
    "tags": []
   },
   "source": [
    "## Classes to categories\n",
    "Next step is to convert our 10 classes to binary categories. For example, if a model classifies a digit on an image as a number `3`, it will correspond with `1`, while other categories will be `0`, Like this:\n",
    "\n",
    "[0]  [0]  [0]  [1]  [0]  [0]  [0]  [0]  [0] [0]\n",
    "\n",
    "To convert classes to categories, we will use a numpy utility library from `keras` and its `to_categorical()` method. `to_categorical()` accepts 2 parameters. First parameter is the vector which has integers that represent the various classes in the data.The second parameter is the number of classes.  "
   ]
  },
  {
   "cell_type": "code",
   "execution_count": 7,
   "id": "f217e4e2",
   "metadata": {
    "execution": {
     "iopub.execute_input": "2022-07-14T10:24:09.568602Z",
     "iopub.status.busy": "2022-07-14T10:24:09.567839Z",
     "iopub.status.idle": "2022-07-14T10:24:09.574597Z",
     "shell.execute_reply": "2022-07-14T10:24:09.573596Z"
    },
    "id": "K51HjqTHu9OX",
    "papermill": {
     "duration": 0.020511,
     "end_time": "2022-07-14T10:24:09.576764",
     "exception": false,
     "start_time": "2022-07-14T10:24:09.556253",
     "status": "completed"
    },
    "tags": []
   },
   "outputs": [],
   "source": [
    "# encode labels\n",
    "y_train = keras.utils.np_utils.to_categorical(y_train, num_classes)\n",
    "y_test = keras.utils.np_utils.to_categorical(y_test, num_classes)"
   ]
  },
  {
   "cell_type": "code",
   "execution_count": 8,
   "id": "2b695b47",
   "metadata": {
    "execution": {
     "iopub.execute_input": "2022-07-14T10:24:09.598737Z",
     "iopub.status.busy": "2022-07-14T10:24:09.598318Z",
     "iopub.status.idle": "2022-07-14T10:24:09.605656Z",
     "shell.execute_reply": "2022-07-14T10:24:09.604632Z"
    },
    "id": "NQZXhWiovK5O",
    "outputId": "a845af81-f9ad-438b-b71b-8d89fd372540",
    "papermill": {
     "duration": 0.021288,
     "end_time": "2022-07-14T10:24:09.608211",
     "exception": false,
     "start_time": "2022-07-14T10:24:09.586923",
     "status": "completed"
    },
    "tags": []
   },
   "outputs": [
    {
     "name": "stdout",
     "output_type": "stream",
     "text": [
      "[0. 0. 0. 0. 0. 1. 0. 0. 0. 0.]\n",
      "[1. 0. 0. 0. 0. 0. 0. 0. 0. 0.]\n",
      "[0. 0. 0. 0. 1. 0. 0. 0. 0. 0.]\n",
      "[0. 1. 0. 0. 0. 0. 0. 0. 0. 0.]\n",
      "[0. 0. 0. 0. 0. 0. 0. 0. 0. 1.]\n",
      "[0. 0. 1. 0. 0. 0. 0. 0. 0. 0.]\n",
      "[0. 1. 0. 0. 0. 0. 0. 0. 0. 0.]\n",
      "[0. 0. 0. 1. 0. 0. 0. 0. 0. 0.]\n",
      "[0. 1. 0. 0. 0. 0. 0. 0. 0. 0.]\n",
      "[0. 0. 0. 0. 1. 0. 0. 0. 0. 0.]\n"
     ]
    }
   ],
   "source": [
    "for i in range(10):\n",
    "  print(y_train[i])"
   ]
  },
  {
   "cell_type": "markdown",
   "id": "e28f65db",
   "metadata": {
    "id": "9nuUTnB8xjle",
    "papermill": {
     "duration": 0.010133,
     "end_time": "2022-07-14T10:24:09.628605",
     "exception": false,
     "start_time": "2022-07-14T10:24:09.618472",
     "status": "completed"
    },
    "tags": []
   },
   "source": [
    "# Data pre-processing \n",
    "The next step is data preprocessing. For the machine learning algorithm to understand our data better, we need to do two things: normalize the data, and flatten it into a vector.\n",
    "\n",
    "## Feature scaling\n",
    "Feature scaling helps us make diffent variables of the dataset more uniform, and improve the performance of machine learning algorithm. This is important, because if the values of a certain feature are higher, the algorithm is very likely to interpret them as more important, than features with smaller values. For example, if we have a variable \"age\" with a range of values (15, 26, 34, 56, 61) and a variable \"height\" with a range of values (165, 172, 184, 201), the machine learning algorithm might develop bias, and treat \"height\" as more important than \"age\", because the numbers are higher. In order to void that, we need to peroform feature scaling. \n",
    "\n",
    "There are several methods to approach feature scaling:\n",
    "\n",
    "1. Standardization\n",
    "\n",
    "In standardization, we center all values around 0.\n",
    "\n",
    "2. Normalization\n",
    "\n",
    "In data normalization, all values are rescaled so they fir between 0 and 1. It is also known as Min-Max scaling. For image processing, it is more common to use normalization, so this is the approach we are going to take today as well.\n",
    "\n",
    "In image processing, normalization changes the range of pixel intensity values, and fits them in a range between 0 and 1 by dividing the image by 255 (the maximum pixel value).\n",
    "\n",
    "## Reshape data to a vector (flatten)\n",
    "\n",
    "The primary reason behind why we flatten images (multi-dimensional arrays) into 1-D array is because they take less memory, and as a result reduce the amount of time needed to train the model. There are two `numpy` methods we can choose from:\n",
    "1. `numpy.flatten()`\n",
    "\n",
    "This method flattens the array regardless of its shape, and has no required parameters.\n",
    "\n",
    "2. `numpy.reshape()`\n",
    "\n",
    "The reshape method converts an array from one shape to another shape, and takes two parameters: the array we want to reshape, and it‘s new shape as a tuple (num1, num2).\n"
   ]
  },
  {
   "cell_type": "code",
   "execution_count": 9,
   "id": "4b746b10",
   "metadata": {
    "execution": {
     "iopub.execute_input": "2022-07-14T10:24:09.650862Z",
     "iopub.status.busy": "2022-07-14T10:24:09.650467Z",
     "iopub.status.idle": "2022-07-14T10:24:09.842203Z",
     "shell.execute_reply": "2022-07-14T10:24:09.841036Z"
    },
    "id": "OWC6F0e_vfED",
    "papermill": {
     "duration": 0.205896,
     "end_time": "2022-07-14T10:24:09.844858",
     "exception": false,
     "start_time": "2022-07-14T10:24:09.638962",
     "status": "completed"
    },
    "tags": []
   },
   "outputs": [],
   "source": [
    "# normalize the images\n",
    "X_train = X_train/255.0\n",
    "X_test = X_test/255.0"
   ]
  },
  {
   "cell_type": "code",
   "execution_count": 10,
   "id": "0ebb1bbe",
   "metadata": {
    "execution": {
     "iopub.execute_input": "2022-07-14T10:24:09.867517Z",
     "iopub.status.busy": "2022-07-14T10:24:09.867077Z",
     "iopub.status.idle": "2022-07-14T10:24:09.873560Z",
     "shell.execute_reply": "2022-07-14T10:24:09.872640Z"
    },
    "id": "mYmzZ7k_x1aQ",
    "outputId": "0797a73d-8050-4705-9c5e-14e4be4d51e1",
    "papermill": {
     "duration": 0.020749,
     "end_time": "2022-07-14T10:24:09.876013",
     "exception": false,
     "start_time": "2022-07-14T10:24:09.855264",
     "status": "completed"
    },
    "tags": []
   },
   "outputs": [
    {
     "data": {
      "text/plain": [
       "(60000, 28, 28)"
      ]
     },
     "execution_count": 10,
     "metadata": {},
     "output_type": "execute_result"
    }
   ],
   "source": [
    "# reshape data\n",
    "X_train.shape"
   ]
  },
  {
   "cell_type": "code",
   "execution_count": 11,
   "id": "5338e111",
   "metadata": {
    "execution": {
     "iopub.execute_input": "2022-07-14T10:24:09.898440Z",
     "iopub.status.busy": "2022-07-14T10:24:09.897698Z",
     "iopub.status.idle": "2022-07-14T10:24:09.903020Z",
     "shell.execute_reply": "2022-07-14T10:24:09.902194Z"
    },
    "id": "tT0D5ixxx58v",
    "papermill": {
     "duration": 0.01855,
     "end_time": "2022-07-14T10:24:09.904980",
     "exception": false,
     "start_time": "2022-07-14T10:24:09.886430",
     "status": "completed"
    },
    "tags": []
   },
   "outputs": [],
   "source": [
    "X_train = X_train.reshape(X_train.shape[0], -1)\n",
    "X_test = X_test.reshape(X_test.shape[0], -1)"
   ]
  },
  {
   "cell_type": "code",
   "execution_count": 12,
   "id": "362aaab6",
   "metadata": {
    "execution": {
     "iopub.execute_input": "2022-07-14T10:24:09.926967Z",
     "iopub.status.busy": "2022-07-14T10:24:09.926265Z",
     "iopub.status.idle": "2022-07-14T10:24:09.932641Z",
     "shell.execute_reply": "2022-07-14T10:24:09.931811Z"
    },
    "id": "Ts-7gTsmyFAs",
    "outputId": "f56b8a18-73bb-4345-ad4c-805294794ba1",
    "papermill": {
     "duration": 0.019795,
     "end_time": "2022-07-14T10:24:09.934680",
     "exception": false,
     "start_time": "2022-07-14T10:24:09.914885",
     "status": "completed"
    },
    "tags": []
   },
   "outputs": [
    {
     "data": {
      "text/plain": [
       "(60000, 784)"
      ]
     },
     "execution_count": 12,
     "metadata": {},
     "output_type": "execute_result"
    }
   ],
   "source": [
    "X_train.shape"
   ]
  },
  {
   "cell_type": "markdown",
   "id": "7659092a",
   "metadata": {
    "id": "kGBzVsH9ycqv",
    "papermill": {
     "duration": 0.009733,
     "end_time": "2022-07-14T10:24:09.954520",
     "exception": false,
     "start_time": "2022-07-14T10:24:09.944787",
     "status": "completed"
    },
    "tags": []
   },
   "source": [
    "# Fully Connected Neural Network\n",
    "Now it‘s time to build our first neural network! For this project, we will build a simple **fully connected neural network** which consists of a serious of layers in which every neuron in one layer is connected to every neuron in the other layer. The main advantage of fully connected neural networks is that they can be used for a broad range of pattern recognition tasks. Compared to more \"specialized\" artificial networks, such as CNN or RNN, however, they tend to perform worse for specific problems. \n",
    "\n",
    "## Model\n",
    "When we are building a model in Keras, we have two optins: to build a **Sequential** model, of a **Functional**  model. **Sequential** models are the most common type, and we can use it to create the models by stacking layers in a particular sequence that we choose. **Functional** models, on the other hand, are used to create models with extra flexibility, such as connecting layers to more then one previous and one next layer. In other words, it allows us to create more complex and sophisticated networks. \n",
    "\n",
    "For this project, we will create a **Sequential** model.\n",
    "\n",
    "## Layers\n",
    "There are 3 types of layers in a neural network: an ** input layer**, a **hidden layer(s)**, and an **output layer**.  In our case, we will create a simple neural network with 1 input layer, 1 output layer, and 2 hidden layers: a dense and a dropout layer.\n",
    "\n",
    "### Dense layer\n",
    "Dense layer is the type of a layer in which all neurons are connected with all neurons of the previous layer.  As the first parameter, `Dense()` layer accepts the number of neurons we want the layer to have.\n",
    "\n",
    "### Dropout Layer\n",
    "Dropout layer is used as a method of regularization. Dropout layer randomly drops nodes (neurons), and forces the neurons in previous layers to take more or less responsibilites, and thus eliminates overfitting.\n",
    "\n",
    "## Activation functions\n",
    "\n",
    "Each layer in a neural network has an activation function. It tells each neuron how to transform the data it has, before sending it to the next layer. The most common activation function for hidden layers is ReLU, sigmoid, and tanh.\n",
    "\n",
    "The most common activation functions for the **output layer** are linear, logistic (sigmoid), and softmax. The choice of the output function depends on the type of the problem we are trying to solve. For regression problems, linear activation function is common. For classification problems, we can use a sigmoid for binary or multilabel, and softmax for multiclass classification.\n",
    "\n",
    "For our problem today, we will use **ReLU as our hidden layer activation** function, because we are dealing with images, and a **softmax activation for an output layer** , because it is a multiclass classification problem. \n",
    "\n",
    "## Loss and Optimizer functions\n",
    "\n",
    "Apart from the activation functions, we also need to decide on loss and optimizer functions, when building a neural network. \n",
    "\n",
    "### Loss\n",
    "Loss function calculates how wrong the prediction is. For classification problems, there are several options of loss functions:\n",
    "\n",
    "* Binary Classification:\n",
    "  * Binary Cross-Entropy\n",
    "  > default loss function for binary classification\n",
    "  * Hinge Loss\n",
    "  > primary developed for Support Vector Machines (SVM)\n",
    "\n",
    "* Multi-Class Classification:\n",
    " * Multi-Class Cross-Entropy Loss\n",
    " > default loss function for multiclass classification (can belong to more than one class)\n",
    " * Categorical cross-entropy\n",
    " > each output can belong to only one class\n",
    " * Sparse Multiclass Cross-Entropy Loss\n",
    " > no need for one-hot encoding, good for problems with large number of labels\n",
    "\n",
    "For our project, we will use the **categorical cross-entropy** function, because each image can only signify one number. \n",
    "\n",
    "### Optimizer \n",
    "Optimizer helps us correctly modify the weights of the neurons and the learning rate to reduce the loss and improve accuracy. Optimizers can be broadly divided into two categories: **Gradient descent** and **Adaptive** optimizers. The principal difference between the two groups is that for gradient descent optmizers, we need to tune the learning rate manually, while adaptive optimizers do it automatically.\n",
    "\n",
    "For this project, we will use an adaptive **Adam**  optimzier, which is currently considered to be the best optimizer overall."
   ]
  },
  {
   "cell_type": "code",
   "execution_count": 13,
   "id": "a689d8f5",
   "metadata": {
    "execution": {
     "iopub.execute_input": "2022-07-14T10:24:09.976930Z",
     "iopub.status.busy": "2022-07-14T10:24:09.976204Z",
     "iopub.status.idle": "2022-07-14T10:24:10.097573Z",
     "shell.execute_reply": "2022-07-14T10:24:10.096422Z"
    },
    "id": "h6bfVZ1TyHmM",
    "outputId": "bbf3b859-a51d-4608-aec8-586ea1122bd1",
    "papermill": {
     "duration": 0.138806,
     "end_time": "2022-07-14T10:24:10.103074",
     "exception": false,
     "start_time": "2022-07-14T10:24:09.964268",
     "status": "completed"
    },
    "tags": []
   },
   "outputs": [
    {
     "name": "stdout",
     "output_type": "stream",
     "text": [
      "Model: \"sequential\"\n",
      "_________________________________________________________________\n",
      "Layer (type)                 Output Shape              Param #   \n",
      "=================================================================\n",
      "dense (Dense)                (None, 128)               100480    \n",
      "_________________________________________________________________\n",
      "dense_1 (Dense)              (None, 128)               16512     \n",
      "_________________________________________________________________\n",
      "dropout (Dropout)            (None, 128)               0         \n",
      "_________________________________________________________________\n",
      "dense_2 (Dense)              (None, 10)                1290      \n",
      "=================================================================\n",
      "Total params: 118,282\n",
      "Trainable params: 118,282\n",
      "Non-trainable params: 0\n",
      "_________________________________________________________________\n"
     ]
    },
    {
     "name": "stderr",
     "output_type": "stream",
     "text": [
      "2022-07-14 10:24:10.012456: I tensorflow/core/common_runtime/process_util.cc:146] Creating new thread pool with default inter op setting: 2. Tune using inter_op_parallelism_threads for best performance.\n"
     ]
    }
   ],
   "source": [
    "#instanitiating the model\n",
    "model = Sequential()\n",
    "\n",
    "model.add(Dense(units=128, input_shape=(784, ), activation=\"relu\"))\n",
    "model.add(Dense(units=128, activation=\"relu\"))\n",
    "model.add(Dropout(0.25))\n",
    "model.add(Dense(units=10, activation=\"softmax\"))\n",
    "\n",
    "model.compile(loss=\"categorical_crossentropy\", optimizer=\"adam\", metrics=\"accuracy\")\n",
    "model.summary()"
   ]
  },
  {
   "cell_type": "markdown",
   "id": "a329ae3a",
   "metadata": {
    "id": "PDbdbGvGgXup",
    "papermill": {
     "duration": 0.010159,
     "end_time": "2022-07-14T10:24:10.124056",
     "exception": false,
     "start_time": "2022-07-14T10:24:10.113897",
     "status": "completed"
    },
    "tags": []
   },
   "source": [
    "That‘s it! All of that text for just one cell!\n",
    "\n",
    "Now that we compiled our model, the next step is to actually fit it to our data. But before we do that, let‘s  talk about batch size and epochs."
   ]
  },
  {
   "cell_type": "markdown",
   "id": "f17a79bd",
   "metadata": {
    "id": "RWzbSIcqz5bb",
    "papermill": {
     "duration": 0.010165,
     "end_time": "2022-07-14T10:24:10.144718",
     "exception": false,
     "start_time": "2022-07-14T10:24:10.134553",
     "status": "completed"
    },
    "tags": []
   },
   "source": [
    "## Batch size\n",
    "Batch size refers to the number of samples used in one iteration.\n",
    "Typically, we have 3 options to choose from.\n",
    "* Batch mode\n",
    "Using all the data in the dataset. Has long iteration times. \n",
    "* Mini-batch mode\n",
    "Using parts of the dataset. Faster learning than in the batch mode. Typical mini-batch sizes are 32, 64, 128, 256, and 512. The advised mini-batch size is 32. \n",
    "* Stochastic mode\n",
    "Using one sample per iteration.\n",
    "\n",
    "We are going to use a **mini-batch mode**, and because our problem is very simple, and we will use **512 batch size**.\n",
    "\n",
    "## Epochs\n",
    "When all data we have  has updated the internal parameters, that equals to one epoch. There are many strategies to chose the best number of epochs. Some people swear by 11 epochs. Other people give other numbers. But the best way to decide if you have too many or too little epochs is to look at the model perofrmance. If the model keeps improving, it is advisable to try a higher numebr of epochs. If the model stopped improving way before the final epoch, it is advisable to try a lower number of epochs. "
   ]
  },
  {
   "cell_type": "code",
   "execution_count": 14,
   "id": "dbad1072",
   "metadata": {
    "execution": {
     "iopub.execute_input": "2022-07-14T10:24:10.167843Z",
     "iopub.status.busy": "2022-07-14T10:24:10.167070Z",
     "iopub.status.idle": "2022-07-14T10:24:19.217962Z",
     "shell.execute_reply": "2022-07-14T10:24:19.216835Z"
    },
    "id": "WCLhuutYzm6Y",
    "outputId": "725fa9af-b30e-49b7-a367-930790f93371",
    "papermill": {
     "duration": 9.065198,
     "end_time": "2022-07-14T10:24:19.220247",
     "exception": false,
     "start_time": "2022-07-14T10:24:10.155049",
     "status": "completed"
    },
    "tags": []
   },
   "outputs": [
    {
     "name": "stderr",
     "output_type": "stream",
     "text": [
      "2022-07-14 10:24:10.513112: I tensorflow/compiler/mlir/mlir_graph_optimization_pass.cc:185] None of the MLIR Optimization Passes are enabled (registered 2)\n"
     ]
    },
    {
     "name": "stdout",
     "output_type": "stream",
     "text": [
      "Epoch 1/11\n",
      "118/118 [==============================] - 1s 6ms/step - loss: 0.5851 - accuracy: 0.8294\n",
      "Epoch 2/11\n",
      "118/118 [==============================] - 1s 6ms/step - loss: 0.2259 - accuracy: 0.9350\n",
      "Epoch 3/11\n",
      "118/118 [==============================] - 1s 6ms/step - loss: 0.1634 - accuracy: 0.9520\n",
      "Epoch 4/11\n",
      "118/118 [==============================] - 1s 6ms/step - loss: 0.1268 - accuracy: 0.9632\n",
      "Epoch 5/11\n",
      "118/118 [==============================] - 1s 6ms/step - loss: 0.1040 - accuracy: 0.9684\n",
      "Epoch 6/11\n",
      "118/118 [==============================] - 1s 6ms/step - loss: 0.0891 - accuracy: 0.9728\n",
      "Epoch 7/11\n",
      "118/118 [==============================] - 1s 6ms/step - loss: 0.0747 - accuracy: 0.9776\n",
      "Epoch 8/11\n",
      "118/118 [==============================] - 1s 6ms/step - loss: 0.0662 - accuracy: 0.9806\n",
      "Epoch 9/11\n",
      "118/118 [==============================] - 1s 6ms/step - loss: 0.0576 - accuracy: 0.9823\n",
      "Epoch 10/11\n",
      "118/118 [==============================] - 1s 6ms/step - loss: 0.0507 - accuracy: 0.9848\n",
      "Epoch 11/11\n",
      "118/118 [==============================] - 1s 6ms/step - loss: 0.0455 - accuracy: 0.9860\n"
     ]
    },
    {
     "data": {
      "text/plain": [
       "<keras.callbacks.History at 0x7f2f2cfc4a10>"
      ]
     },
     "execution_count": 14,
     "metadata": {},
     "output_type": "execute_result"
    }
   ],
   "source": [
    "# training the model \n",
    "BATCH_SIZE = 512\n",
    "epochs = 11\n",
    "model.fit(x=X_train, y=y_train, batch_size = BATCH_SIZE, epochs = epochs )"
   ]
  },
  {
   "cell_type": "markdown",
   "id": "c2edaecd",
   "metadata": {
    "id": "1c4b1_vT0R77",
    "papermill": {
     "duration": 0.021898,
     "end_time": "2022-07-14T10:24:19.265327",
     "exception": false,
     "start_time": "2022-07-14T10:24:19.243429",
     "status": "completed"
    },
    "tags": []
   },
   "source": [
    "## Model evaluation\n",
    "\n",
    "Now that we have compiled and fitted our model, it is time to evaluate its performance. Since it is a classification problem, we can use the typical classification evaluation tools, such as accuracy, and loss.\n",
    "Similarly to machine learning problems, we evaluate the model on test data - the data that our algorithm hasn‘t seen yet. If we want to compare test data evaluation with train data performance, we can also see both."
   ]
  },
  {
   "cell_type": "code",
   "execution_count": 15,
   "id": "53cc03aa",
   "metadata": {
    "execution": {
     "iopub.execute_input": "2022-07-14T10:24:19.311488Z",
     "iopub.status.busy": "2022-07-14T10:24:19.310754Z",
     "iopub.status.idle": "2022-07-14T10:24:23.312421Z",
     "shell.execute_reply": "2022-07-14T10:24:23.311024Z"
    },
    "id": "UWzMbM9uz7vS",
    "outputId": "0e174248-0764-472e-80fa-5279f8e86bfa",
    "papermill": {
     "duration": 4.027483,
     "end_time": "2022-07-14T10:24:23.314744",
     "exception": false,
     "start_time": "2022-07-14T10:24:19.287261",
     "status": "completed"
    },
    "tags": []
   },
   "outputs": [
    {
     "name": "stdout",
     "output_type": "stream",
     "text": [
      "1875/1875 [==============================] - 3s 1ms/step - loss: 0.0295 - accuracy: 0.9921\n",
      "313/313 [==============================] - 1s 2ms/step - loss: 0.0728 - accuracy: 0.9766\n",
      "Train Loss: 0.029525600373744965, Train Accuracy: 0.9921166896820068\n",
      "Test Loss: 0.07279087603092194, Test Accuracy: 0.9765999913215637\n"
     ]
    }
   ],
   "source": [
    "# Evaluate train and test \n",
    "train_loss, train_acc = model.evaluate(X_train, y_train)\n",
    "test_loss, test_acc = model.evaluate(X_test, y_test)\n",
    "\n",
    "# Print results\n",
    "print(f\"Train Loss: {train_loss}, Train Accuracy: {train_acc}\")\n",
    "print(f\"Test Loss: {test_loss}, Test Accuracy: {test_acc}\")"
   ]
  },
  {
   "cell_type": "markdown",
   "id": "974fb5b2",
   "metadata": {
    "id": "5jQ71p7ZWAwy",
    "papermill": {
     "duration": 0.027343,
     "end_time": "2022-07-14T10:24:23.369455",
     "exception": false,
     "start_time": "2022-07-14T10:24:23.342112",
     "status": "completed"
    },
    "tags": []
   },
   "source": [
    "We can see that the test loss is higher than the train loss, and train accuracy is higher than test accuracy. It is good, and means that our model is performing well, and doesn‘t overfit."
   ]
  },
  {
   "cell_type": "markdown",
   "id": "6d327d81",
   "metadata": {
    "id": "rLjtq4Fe0sRf",
    "papermill": {
     "duration": 0.026812,
     "end_time": "2022-07-14T10:24:23.423793",
     "exception": false,
     "start_time": "2022-07-14T10:24:23.396981",
     "status": "completed"
    },
    "tags": []
   },
   "source": [
    "## Make predictions\n",
    "Now that we trained and evaluated out model, let‘s try making predictions! **Softmax activation** function that we used for our **output layer** returns the predictions as a vector of probabilities. For example, \"this image is 86% likely to be number 7, and this image has a 14% probability of being number 2.\"\n"
   ]
  },
  {
   "cell_type": "code",
   "execution_count": 16,
   "id": "e6eaad0d",
   "metadata": {
    "execution": {
     "iopub.execute_input": "2022-07-14T10:24:23.479340Z",
     "iopub.status.busy": "2022-07-14T10:24:23.478968Z",
     "iopub.status.idle": "2022-07-14T10:24:23.970825Z",
     "shell.execute_reply": "2022-07-14T10:24:23.969441Z"
    },
    "id": "wHtdJaDd0lHD",
    "outputId": "3a7f7ed6-22ee-46b2-db4d-0de189eb6e53",
    "papermill": {
     "duration": 0.523452,
     "end_time": "2022-07-14T10:24:23.974230",
     "exception": false,
     "start_time": "2022-07-14T10:24:23.450778",
     "status": "completed"
    },
    "tags": []
   },
   "outputs": [
    {
     "name": "stdout",
     "output_type": "stream",
     "text": [
      "What Softmax predicted: [[6.67484471e-07 8.63938226e-07 2.90262437e-06 ... 9.99933004e-01\n",
      "  1.83690815e-07 5.96646350e-06]\n",
      " [1.13855387e-08 8.30811769e-05 9.99906898e-01 ... 3.48887053e-09\n",
      "  5.40327221e-07 5.68540659e-10]\n",
      " [7.04137165e-06 9.98639047e-01 2.51900085e-04 ... 6.19446684e-04\n",
      "  2.67804571e-04 4.50205744e-06]\n",
      " ...\n",
      " [2.49043702e-10 3.95984294e-08 3.42091411e-10 ... 7.78739775e-07\n",
      "  3.42232397e-06 1.01500795e-04]\n",
      " [7.78262166e-09 4.06291711e-09 2.21405991e-10 ... 1.18619603e-09\n",
      "  1.04487954e-05 2.12086793e-09]\n",
      " [9.85991644e-09 1.42429233e-08 1.72743846e-08 ... 1.05406933e-10\n",
      "  4.62136418e-09 2.83171158e-08]]\n",
      "What Softmax actually means: [7 2 1 ... 4 5 6]\n"
     ]
    }
   ],
   "source": [
    "# Predict labels on test data\n",
    "y_pred = model.predict(X_test)\n",
    "y_pred_classes = np.argmax(y_pred, axis=1) # pick the highest probability with \"np.argmax()\", and turn it into an index uing \"axis=1\"\n",
    "\n",
    "# print vector of probabilities\n",
    "print(f\"What Softmax predicted: {y_pred}\")\n",
    "\n",
    "# print predicted number\n",
    "print(f\"What Softmax actually means: {y_pred_classes}\")\n"
   ]
  },
  {
   "cell_type": "markdown",
   "id": "11d12c61",
   "metadata": {
    "id": "qNNWDkp4YJje",
    "papermill": {
     "duration": 0.026591,
     "end_time": "2022-07-14T10:24:24.028357",
     "exception": false,
     "start_time": "2022-07-14T10:24:24.001766",
     "status": "completed"
    },
    "tags": []
   },
   "source": [
    "Let‘s view a single random example. Because we use `random`, each time we refresh the cell, we will get a new sample."
   ]
  },
  {
   "cell_type": "code",
   "execution_count": 17,
   "id": "b5950af7",
   "metadata": {
    "execution": {
     "iopub.execute_input": "2022-07-14T10:24:24.085356Z",
     "iopub.status.busy": "2022-07-14T10:24:24.084978Z",
     "iopub.status.idle": "2022-07-14T10:24:24.092771Z",
     "shell.execute_reply": "2022-07-14T10:24:24.091723Z"
    },
    "id": "pTN6WkkU061N",
    "papermill": {
     "duration": 0.039497,
     "end_time": "2022-07-14T10:24:24.094940",
     "exception": false,
     "start_time": "2022-07-14T10:24:24.055443",
     "status": "completed"
    },
    "tags": []
   },
   "outputs": [],
   "source": [
    "# choose a random sample from all the test data\n",
    "random_num = np.random.choice(len(X_test))\n",
    "X_sample = X_test[random_num]\n",
    "\n",
    "# save true label of this sample in a variable\n",
    "y_true = np.argmax(y_test, axis=1)\n",
    "y_sample_true = y_true[random_num]\n",
    "\n",
    "# save a predicted label of this sample in a variable\n",
    "y_sample_pred_class = y_pred_classes[random_num]"
   ]
  },
  {
   "cell_type": "code",
   "execution_count": 18,
   "id": "3994fc9a",
   "metadata": {
    "execution": {
     "iopub.execute_input": "2022-07-14T10:24:24.151440Z",
     "iopub.status.busy": "2022-07-14T10:24:24.151042Z",
     "iopub.status.idle": "2022-07-14T10:24:24.326087Z",
     "shell.execute_reply": "2022-07-14T10:24:24.325067Z"
    },
    "id": "4F3zHrO61h9N",
    "outputId": "1af939f0-8605-4907-9a48-4b18cf874b16",
    "papermill": {
     "duration": 0.205405,
     "end_time": "2022-07-14T10:24:24.328290",
     "exception": false,
     "start_time": "2022-07-14T10:24:24.122885",
     "status": "completed"
    },
    "tags": []
   },
   "outputs": [
    {
     "data": {
      "image/png": "[encoded data removed]",
      "text/plain": [
       "<Figure size 432x288 with 1 Axes>"
      ]
     },
     "metadata": {
      "needs_background": "light"
     },
     "output_type": "display_data"
    }
   ],
   "source": [
    "# visualize\n",
    "plt.title(f\"Predicted: {y_sample_pred_class}, True:{y_sample_true}\")\n",
    "plt.imshow(X_sample.reshape(28, 28), cmap=\"gray\");"
   ]
  },
  {
   "cell_type": "markdown",
   "id": "fa4cba98",
   "metadata": {
    "id": "SUSw8xpP11UV",
    "papermill": {
     "duration": 0.027018,
     "end_time": "2022-07-14T10:24:24.382897",
     "exception": false,
     "start_time": "2022-07-14T10:24:24.355879",
     "status": "completed"
    },
    "tags": []
   },
   "source": [
    "## Confusion matrix\n",
    "Another effective way to see the accuracy of a classification model is by making a confusion matrix."
   ]
  },
  {
   "cell_type": "code",
   "execution_count": 19,
   "id": "be4b7abf",
   "metadata": {
    "execution": {
     "iopub.execute_input": "2022-07-14T10:24:24.439240Z",
     "iopub.status.busy": "2022-07-14T10:24:24.438237Z",
     "iopub.status.idle": "2022-07-14T10:24:25.239716Z",
     "shell.execute_reply": "2022-07-14T10:24:25.238466Z"
    },
    "id": "dz1o6W5U1zBP",
    "outputId": "52346a9d-78c6-49a2-ce9b-e2061160a137",
    "papermill": {
     "duration": 0.831895,
     "end_time": "2022-07-14T10:24:25.241872",
     "exception": false,
     "start_time": "2022-07-14T10:24:24.409977",
     "status": "completed"
    },
    "tags": []
   },
   "outputs": [
    {
     "data": {
      "image/png": "[encoded data removed]",
      "text/plain": [
       "<Figure size 1080x720 with 2 Axes>"
      ]
     },
     "metadata": {
      "needs_background": "light"
     },
     "output_type": "display_data"
    }
   ],
   "source": [
    "# generate a confusion matrix\n",
    "confusion_mtx = confusion_matrix(y_true, y_pred_classes)\n",
    "\n",
    "# visualize confusion matrix with matplotlib and seaborn\n",
    "fig, ax = plt.subplots(figsize=(15, 10))\n",
    "ax = sns.heatmap(confusion_mtx, annot=True, fmt=\"d\", ax=ax, cmap=\"viridis\")\n",
    "ax.set_xlabel(\"Predicted Label\")\n",
    "ax.set_ylabel(\"True Label\")\n",
    "ax.set_title(\"Confusion Matrix\");"
   ]
  },
  {
   "cell_type": "markdown",
   "id": "bc5425e3",
   "metadata": {
    "id": "QAw1TJI-anWA",
    "papermill": {
     "duration": 0.027867,
     "end_time": "2022-07-14T10:24:25.297891",
     "exception": false,
     "start_time": "2022-07-14T10:24:25.270024",
     "status": "completed"
    },
    "tags": []
   },
   "source": [
    "## Conclusion\n",
    "As we can see, our model performed pretty well, and the absolute majority of the labels were correct. In this notebook, we learned how to create a simple neural network, about the types of the layers, activation and loss functions, and optimizers. We also learned how to pre-process images through normalization, and how to evaluate our model after fitting it with accuracy and confusion matrix."
   ]
  },
  {
   "cell_type": "code",
   "execution_count": null,
   "id": "a6aa0ebe",
   "metadata": {
    "id": "bZKIdwwlbCWN",
    "papermill": {
     "duration": 0.02772,
     "end_time": "2022-07-14T10:24:25.353298",
     "exception": false,
     "start_time": "2022-07-14T10:24:25.325578",
     "status": "completed"
    },
    "tags": []
   },
   "outputs": [],
   "source": []
  }
 ],
 "metadata": {
  "kernelspec": {
   "display_name": "Python 3",
   "language": "python",
   "name": "python3"
  },
  "language_info": {
   "codemirror_mode": {
    "name": "ipython",
    "version": 3
   },
   "file_extension": ".py",
   "mimetype": "text/x-python",
   "name": "python",
   "nbconvert_exporter": "python",
   "pygments_lexer": "ipython3",
   "version": "3.7.12"
  },
  "papermill": {
   "default_parameters": {},
   "duration": 39.501743,
   "end_time": "2022-07-14T10:24:28.241188",
   "environment_variables": {},
   "exception": null,
   "input_path": "__notebook__.ipynb",
   "output_path": "__notebook__.ipynb",
   "parameters": {},
   "start_time": "2022-07-14T10:23:48.739445",
   "version": "2.3.4"
  }
 },
 "nbformat": 4,
 "nbformat_minor": 5
}
